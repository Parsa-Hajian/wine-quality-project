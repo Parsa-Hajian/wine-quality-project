{
 "cells": [
  {
   "cell_type": "markdown",
   "id": "85b6bee5-ab0b-4d0c-866a-718192ea78fc",
   "metadata": {},
   "source": [
    "## Imports & Data Loading"
   ]
  },
  {
   "cell_type": "code",
   "execution_count": 6,
   "id": "09638b51-f753-4803-9655-f6d38d549043",
   "metadata": {},
   "outputs": [
    {
     "name": "stdout",
     "output_type": "stream",
     "text": [
      "Train DataFrame shape: (5199, 13)\n"
     ]
    },
    {
     "data": {
      "text/html": [
       "<div>\n",
       "<style scoped>\n",
       "    .dataframe tbody tr th:only-of-type {\n",
       "        vertical-align: middle;\n",
       "    }\n",
       "\n",
       "    .dataframe tbody tr th {\n",
       "        vertical-align: top;\n",
       "    }\n",
       "\n",
       "    .dataframe thead th {\n",
       "        text-align: right;\n",
       "    }\n",
       "</style>\n",
       "<table border=\"1\" class=\"dataframe\">\n",
       "  <thead>\n",
       "    <tr style=\"text-align: right;\">\n",
       "      <th></th>\n",
       "      <th>fixed acidity</th>\n",
       "      <th>volatile acidity</th>\n",
       "      <th>citric acid</th>\n",
       "      <th>residual sugar</th>\n",
       "      <th>chlorides</th>\n",
       "      <th>free sulfur dioxide</th>\n",
       "      <th>total sulfur dioxide</th>\n",
       "      <th>density</th>\n",
       "      <th>pH</th>\n",
       "      <th>sulphates</th>\n",
       "      <th>alcohol</th>\n",
       "      <th>color</th>\n",
       "      <th>good</th>\n",
       "    </tr>\n",
       "  </thead>\n",
       "  <tbody>\n",
       "    <tr>\n",
       "      <th>0</th>\n",
       "      <td>-0.775904</td>\n",
       "      <td>-0.226441</td>\n",
       "      <td>1.178781</td>\n",
       "      <td>1.199440</td>\n",
       "      <td>0.068358</td>\n",
       "      <td>2.144825</td>\n",
       "      <td>1.765922</td>\n",
       "      <td>0.624517</td>\n",
       "      <td>-0.169426</td>\n",
       "      <td>0.467230</td>\n",
       "      <td>-0.914025</td>\n",
       "      <td>1</td>\n",
       "      <td>1</td>\n",
       "    </tr>\n",
       "    <tr>\n",
       "      <th>1</th>\n",
       "      <td>-0.389287</td>\n",
       "      <td>-0.659067</td>\n",
       "      <td>-0.417431</td>\n",
       "      <td>-0.848574</td>\n",
       "      <td>0.127257</td>\n",
       "      <td>0.137470</td>\n",
       "      <td>0.679752</td>\n",
       "      <td>-0.425157</td>\n",
       "      <td>0.143998</td>\n",
       "      <td>0.195918</td>\n",
       "      <td>-0.830075</td>\n",
       "      <td>1</td>\n",
       "      <td>1</td>\n",
       "    </tr>\n",
       "    <tr>\n",
       "      <th>2</th>\n",
       "      <td>3.554210</td>\n",
       "      <td>-0.041030</td>\n",
       "      <td>1.178781</td>\n",
       "      <td>-0.430612</td>\n",
       "      <td>1.099083</td>\n",
       "      <td>1.341883</td>\n",
       "      <td>-0.637897</td>\n",
       "      <td>1.833636</td>\n",
       "      <td>0.520106</td>\n",
       "      <td>1.552481</td>\n",
       "      <td>0.177323</td>\n",
       "      <td>0</td>\n",
       "      <td>1</td>\n",
       "    </tr>\n",
       "    <tr>\n",
       "      <th>3</th>\n",
       "      <td>2.858299</td>\n",
       "      <td>-0.102834</td>\n",
       "      <td>1.386983</td>\n",
       "      <td>-0.764981</td>\n",
       "      <td>2.247604</td>\n",
       "      <td>-0.780179</td>\n",
       "      <td>-1.278915</td>\n",
       "      <td>0.883614</td>\n",
       "      <td>0.394736</td>\n",
       "      <td>1.620309</td>\n",
       "      <td>0.848921</td>\n",
       "      <td>0</td>\n",
       "      <td>1</td>\n",
       "    </tr>\n",
       "    <tr>\n",
       "      <th>4</th>\n",
       "      <td>-0.157317</td>\n",
       "      <td>-0.720870</td>\n",
       "      <td>-0.139829</td>\n",
       "      <td>-0.848574</td>\n",
       "      <td>-0.461729</td>\n",
       "      <td>-0.952238</td>\n",
       "      <td>-0.940600</td>\n",
       "      <td>-1.604379</td>\n",
       "      <td>-0.106741</td>\n",
       "      <td>-1.364131</td>\n",
       "      <td>1.268670</td>\n",
       "      <td>1</td>\n",
       "      <td>1</td>\n",
       "    </tr>\n",
       "  </tbody>\n",
       "</table>\n",
       "</div>"
      ],
      "text/plain": [
       "   fixed acidity  volatile acidity  citric acid  residual sugar  chlorides  \\\n",
       "0      -0.775904         -0.226441     1.178781        1.199440   0.068358   \n",
       "1      -0.389287         -0.659067    -0.417431       -0.848574   0.127257   \n",
       "2       3.554210         -0.041030     1.178781       -0.430612   1.099083   \n",
       "3       2.858299         -0.102834     1.386983       -0.764981   2.247604   \n",
       "4      -0.157317         -0.720870    -0.139829       -0.848574  -0.461729   \n",
       "\n",
       "   free sulfur dioxide  total sulfur dioxide   density        pH  sulphates  \\\n",
       "0             2.144825              1.765922  0.624517 -0.169426   0.467230   \n",
       "1             0.137470              0.679752 -0.425157  0.143998   0.195918   \n",
       "2             1.341883             -0.637897  1.833636  0.520106   1.552481   \n",
       "3            -0.780179             -1.278915  0.883614  0.394736   1.620309   \n",
       "4            -0.952238             -0.940600 -1.604379 -0.106741  -1.364131   \n",
       "\n",
       "    alcohol  color  good  \n",
       "0 -0.914025      1     1  \n",
       "1 -0.830075      1     1  \n",
       "2  0.177323      0     1  \n",
       "3  0.848921      0     1  \n",
       "4  1.268670      1     1  "
      ]
     },
     "execution_count": 6,
     "metadata": {},
     "output_type": "execute_result"
    }
   ],
   "source": [
    "import numpy as np\n",
    "import pandas as pd\n",
    "import matplotlib.pyplot as plt\n",
    "\n",
    "# 1. Build path to the processed training data\n",
    "train_path = \"../data/processed/train_processed.csv\"\n",
    "\n",
    "# 2. Load into a DataFrame\n",
    "df_train = pd.read_csv(train_path)\n",
    "\n",
    "# 3. Quick inspection\n",
    "print(\"Train DataFrame shape:\", df_train.shape)\n",
    "df_train.head()"
   ]
  },
  {
   "cell_type": "markdown",
   "id": "a0007d13-d734-4c90-b3af-b04b8d0d2c5c",
   "metadata": {},
   "source": [
    "## Preparing feature & label arrays"
   ]
  },
  {
   "cell_type": "code",
   "execution_count": 54,
   "id": "1c7bed55-c773-47a7-9fe4-523b4aaf8757",
   "metadata": {},
   "outputs": [
    {
     "name": "stdout",
     "output_type": "stream",
     "text": [
      "Features now include: ['fixed acidity', 'volatile acidity', 'citric acid', 'residual sugar', 'chlorides', 'free sulfur dioxide', 'total sulfur dioxide', 'density', 'pH', 'sulphates', 'alcohol', 'color']\n",
      "X_train shape: (5199, 12)\n",
      "y_train shape: (5199,)\n"
     ]
    }
   ],
   "source": [
    "# 4. Identify feature columns (all except 'good')\n",
    "feature_cols = [col for col in df_train.columns if col != \"good\"]\n",
    "print(\"Features now include:\", feature_cols)\n",
    "\n",
    "# 5. Convert to NumPy arrays\n",
    "X_train = df_train[feature_cols].values\n",
    "y_train = df_train[\"good\"].values\n",
    "\n",
    "# 6. Check shapes\n",
    "print(\"X_train shape:\", X_train.shape)\n",
    "print(\"y_train shape:\", y_train.shape)\n"
   ]
  },
  {
   "cell_type": "markdown",
   "id": "4625930c-3332-4402-af29-b8f1147e6089",
   "metadata": {},
   "source": [
    "## Defining & Testing the Sigmoid"
   ]
  },
  {
   "cell_type": "code",
   "execution_count": 57,
   "id": "d2321d37-03eb-49bc-babf-30ba77c5720a",
   "metadata": {},
   "outputs": [
    {
     "name": "stdout",
     "output_type": "stream",
     "text": [
      "sigmoid([-2, 0, 2]) = [0.11920292 0.5        0.88079708]\n"
     ]
    }
   ],
   "source": [
    "def sigmoid(z):\n",
    "    \"\"\"\n",
    "    Compute the sigmoid of z.\n",
    "\n",
    "    For each element z_i, sigmoid(z_i) = 1 / (1 + exp(-z_i)).\n",
    "    \"\"\"\n",
    "    return 1 / (1 + np.exp(-z))\n",
    "\n",
    "# Quick test\n",
    "test_vals = np.array([-2.0, 0.0, 2.0])\n",
    "print(\"sigmoid([-2, 0, 2]) =\", sigmoid(test_vals))\n"
   ]
  },
  {
   "cell_type": "markdown",
   "id": "f8ddeb21-26a9-4a18-8bbd-8aafe542a98a",
   "metadata": {},
   "source": [
    "## Loss Function"
   ]
  },
  {
   "cell_type": "code",
   "execution_count": 60,
   "id": "0b324e20-777f-41f0-8374-d7cad134b14b",
   "metadata": {},
   "outputs": [
    {
     "name": "stdout",
     "output_type": "stream",
     "text": [
      "Loss (expected to be low): 0.164252033486018\n",
      "Loss (expected to be high): 1.956011502714073\n"
     ]
    }
   ],
   "source": [
    "def compute_loss(y_true, y_pred):\n",
    "    \"\"\"\n",
    "    Compute the average binary cross-entropy loss:\n",
    "    \n",
    "    L = -1/m * sum( y*log(y_pred) + (1-y)*log(1-y_pred) )\n",
    "    where m = number of samples.\n",
    "    \"\"\"\n",
    "    m = y_true.shape[0]\n",
    "    # Clip y_pred to avoid log(0)\n",
    "    eps = 1e-15\n",
    "    y_pred = np.clip(y_pred, eps, 1 - eps)\n",
    "    \n",
    "    loss = - (1 / m) * np.sum(\n",
    "        y_true * np.log(y_pred) + (1 - y_true) * np.log(1 - y_pred)\n",
    "    )\n",
    "    return loss\n",
    "\n",
    "# Quick test\n",
    "y_true = np.array([0, 1, 1, 0])\n",
    "y_pred = np.array([0.1, 0.9, 0.8, 0.2])  # reasonable predictions\n",
    "print(\"Loss (expected to be low):\", compute_loss(y_true, y_pred))\n",
    "\n",
    "y_pred_bad = np.array([0.9, 0.2, 0.1, 0.8])  # bad predictions\n",
    "print(\"Loss (expected to be high):\", compute_loss(y_true, y_pred_bad))\n"
   ]
  },
  {
   "cell_type": "markdown",
   "id": "9a2da3d8-1733-40fe-8e48-530ed09d9dd5",
   "metadata": {},
   "source": [
    "## Gradient"
   ]
  },
  {
   "cell_type": "code",
   "execution_count": 63,
   "id": "0d93ea25-4879-4926-8275-7fc75a1bf61c",
   "metadata": {},
   "outputs": [
    {
     "name": "stdout",
     "output_type": "stream",
     "text": [
      "dw: [0.28568657 0.40284602]\n",
      "db: 0.11715944752502339\n"
     ]
    }
   ],
   "source": [
    "def compute_gradients(X, y_true, y_pred):\n",
    "    \"\"\"\n",
    "    Compute gradients of the loss w.r.t. weights and bias.\n",
    "\n",
    "    dw = (1/m) * X^T (y_pred - y_true)\n",
    "    db = (1/m) * sum(y_pred - y_true)\n",
    "    \"\"\"\n",
    "    m = y_true.shape[0]\n",
    "    error = y_pred - y_true               # shape (m,)\n",
    "    dw = (1 / m) * np.dot(X.T, error)     # shape (n_features,)\n",
    "    db = (1 / m) * np.sum(error)          # scalar\n",
    "    return dw, db\n",
    "\n",
    "# Quick test on a small example\n",
    "X_test = np.array([[1, 2],\n",
    "                   [3, 4],\n",
    "                   [5, 6]], dtype=float)\n",
    "y_test = np.array([0, 1, 0])\n",
    "\n",
    "# Make up some predictions via sigmoid of a linear model\n",
    "w_test, b_test = np.array([0.1, -0.2]), 0.3\n",
    "z_test = np.dot(X_test, w_test) + b_test\n",
    "y_pred_test = sigmoid(z_test)\n",
    "\n",
    "dw, db = compute_gradients(X_test, y_test, y_pred_test)\n",
    "print(\"dw:\", dw)\n",
    "print(\"db:\", db)\n"
   ]
  },
  {
   "cell_type": "markdown",
   "id": "bc770b5c-a3a9-4144-9e89-73cfbe288591",
   "metadata": {},
   "source": [
    "## Defining the Class Skeleton"
   ]
  },
  {
   "cell_type": "code",
   "execution_count": 66,
   "id": "80af4b2b-1e69-47b2-8aaa-5cbb03c84d1c",
   "metadata": {},
   "outputs": [],
   "source": [
    "class LogisticRegressionScratch:\n",
    "    def __init__(self, lr=0.01, n_iters=1000):\n",
    "        \"\"\"\n",
    "        lr: learning rate (step size)\n",
    "        n_iters: number of training iterations\n",
    "        \"\"\"\n",
    "        self.lr = lr               # learning rate\n",
    "        self.n_iters = n_iters     # how many passes over the data\n",
    "        self.w = None              # weights vector (will be numpy array of shape [n_features])\n",
    "        self.b = None              # bias term (scalar)\n",
    "        self.loss_history = []     # to record loss at each iteration\n"
   ]
  },
  {
   "cell_type": "code",
   "execution_count": 68,
   "id": "e823afa9-c8de-43a2-a323-27f3ec6a84d2",
   "metadata": {},
   "outputs": [
    {
     "name": "stdout",
     "output_type": "stream",
     "text": [
      "Learning rate: 0.1\n",
      "Iterations : 200\n",
      "Initial w   : None\n",
      "Initial b   : None\n"
     ]
    }
   ],
   "source": [
    "# Test to create a model instance\n",
    "model = LogisticRegressionScratch(lr=0.1, n_iters=200)\n",
    "print(\"Learning rate:\", model.lr)\n",
    "print(\"Iterations :\", model.n_iters)\n",
    "print(\"Initial w   :\", model.w)\n",
    "print(\"Initial b   :\", model.b)\n"
   ]
  },
  {
   "cell_type": "markdown",
   "id": "139140d9-ec86-43cf-b05c-60c8b72d5764",
   "metadata": {},
   "source": [
    "## Implementing the fit() Function"
   ]
  },
  {
   "cell_type": "code",
   "execution_count": 136,
   "id": "47bcc871-083c-4e08-836f-4bb827ef2694",
   "metadata": {},
   "outputs": [],
   "source": [
    "import numpy as np\n",
    "\n",
    "class LogisticRegressionScratch:\n",
    "    def __init__(self, lr=0.01, n_iters=1000, reg_lambda=0.0):\n",
    "        \"\"\"\n",
    "        lr: learning rate\n",
    "        n_iters: number of training iterations\n",
    "        reg_lambda: L2 regularization strength (λ)\n",
    "        \"\"\"\n",
    "        self.lr = lr\n",
    "        self.n_iters = n_iters\n",
    "        self.reg_lambda = reg_lambda\n",
    "        self.w = None\n",
    "        self.b = None\n",
    "        self.loss_history = []\n",
    "\n",
    "    def fit(self, X, y):\n",
    "        \"\"\"\n",
    "        Train logistic regression with L2 regularization.\n",
    "        \"\"\"\n",
    "        m, n_features = X.shape\n",
    "        self.w = np.zeros(n_features)\n",
    "        self.b = 0\n",
    "\n",
    "        for i in range(self.n_iters):\n",
    "            # Linear combination\n",
    "            z = X.dot(self.w) + self.b\n",
    "            y_pred = sigmoid(z)\n",
    "\n",
    "            # Unregularized loss\n",
    "            loss = compute_loss(y, y_pred)\n",
    "            # Add L2 penalty\n",
    "            loss += (self.reg_lambda / (2 * m)) * np.sum(self.w ** 2)\n",
    "            self.loss_history.append(loss)\n",
    "\n",
    "            # Gradients (unregularized)\n",
    "            error = y_pred - y\n",
    "            dw = (1 / m) * X.T.dot(error)\n",
    "            db = (1 / m) * np.sum(error)\n",
    "\n",
    "            # Add L2 gradient term\n",
    "            dw += (self.reg_lambda / m) * self.w\n",
    "\n",
    "            # Parameter updates\n",
    "            self.w -= self.lr * dw\n",
    "            self.b -= self.lr * db\n",
    "\n",
    "            # Progress logging\n",
    "            if (i + 1) % (self.n_iters // 5) == 0:\n",
    "                print(f\"Iter {i+1}/{self.n_iters}, loss={loss:.4f}\")\n",
    "\n",
    "    def predict_proba(self, X):\n",
    "        return sigmoid(X.dot(self.w) + self.b)\n",
    "\n",
    "    def predict(self, X, threshold=0.5):\n",
    "        return (self.predict_proba(X) >= threshold).astype(int)\n"
   ]
  },
  {
   "cell_type": "code",
   "execution_count": 138,
   "id": "894ea0e0-01a4-4c93-ab9b-b89ff310597d",
   "metadata": {},
   "outputs": [
    {
     "name": "stdout",
     "output_type": "stream",
     "text": [
      "Iter 40/200, loss=0.1686\n",
      "Iter 80/200, loss=0.0948\n",
      "Iter 120/200, loss=0.0686\n",
      "Iter 160/200, loss=0.0556\n",
      "Iter 200/200, loss=0.0479\n",
      "Final training loss with λ=1.0: 0.04788182522070512\n"
     ]
    }
   ],
   "source": [
    "# Smoke test with L2 on a small subset\n",
    "X_sub, y_sub = X_train[:100], y_train[:100]\n",
    "model_reg = LogisticRegressionScratch(lr=0.1, n_iters=200, reg_lambda=1.0)\n",
    "model_reg.fit(X_sub, y_sub)\n",
    "print(\"Final training loss with λ=1.0:\", model_reg.loss_history[-1])\n"
   ]
  },
  {
   "cell_type": "code",
   "execution_count": 103,
   "id": "d44ff078-ed72-46a8-85ac-53794435fc5b",
   "metadata": {},
   "outputs": [
    {
     "name": "stdout",
     "output_type": "stream",
     "text": [
      "Iteration 100/500, loss=0.5255\n",
      "Iteration 200/500, loss=0.5136\n",
      "Iteration 300/500, loss=0.5106\n",
      "Iteration 400/500, loss=0.5096\n",
      "Iteration 500/500, loss=0.5092\n"
     ]
    }
   ],
   "source": [
    "# Instantiate and fit on the full training set\n",
    "model = LogisticRegressionScratch(lr=0.1, n_iters=500)\n",
    "model.fit(X_train, y_train)"
   ]
  },
  {
   "cell_type": "markdown",
   "id": "d223d15a-02e6-447c-b1a4-fe08c0c57114",
   "metadata": {},
   "source": [
    "## Training Evaluation & Loss Curve"
   ]
  },
  {
   "cell_type": "code",
   "execution_count": 106,
   "id": "5e78a71b-ac1a-4783-9c84-75793d74d26f",
   "metadata": {},
   "outputs": [
    {
     "name": "stdout",
     "output_type": "stream",
     "text": [
      "Training accuracy: 0.7438\n"
     ]
    },
    {
     "data": {
      "image/png": "[encoded data removed]",
      "text/plain": [
       "<Figure size 800x400 with 1 Axes>"
      ]
     },
     "metadata": {},
     "output_type": "display_data"
    }
   ],
   "source": [
    "# 1. Predict on the training set\n",
    "y_train_pred = model.predict(X_train)\n",
    "\n",
    "# 2. Compute training accuracy\n",
    "accuracy_train = np.mean(y_train_pred == y_train)\n",
    "print(f\"Training accuracy: {accuracy_train:.4f}\")\n",
    "\n",
    "# 3. Plot the loss history\n",
    "plt.figure(figsize=(8, 4))\n",
    "plt.plot(model.loss_history, label=\"Training Loss\")\n",
    "plt.title(\"Loss vs. Iterations\")\n",
    "plt.xlabel(\"Iteration\")\n",
    "plt.ylabel(\"Binary Cross-Entropy Loss\")\n",
    "plt.legend()\n",
    "plt.tight_layout()\n",
    "plt.show()\n"
   ]
  },
  {
   "cell_type": "markdown",
   "id": "f4c19ef9-8b0c-4596-83b1-96f5ab5aab25",
   "metadata": {},
   "source": [
    "## Test‐Set Evaluation"
   ]
  },
  {
   "cell_type": "code",
   "execution_count": 109,
   "id": "696e5738-08a5-45a5-801b-72a8f5bb7c7b",
   "metadata": {},
   "outputs": [
    {
     "name": "stdout",
     "output_type": "stream",
     "text": [
      "Test Accuracy : 0.7196\n",
      "Precision     : 0.7644\n",
      "Recall        : 0.8054\n",
      "F1-Score      : 0.7844\n",
      "\n",
      "Confusion Matrix:\n",
      " [[272 204]\n",
      " [160 662]]\n"
     ]
    }
   ],
   "source": [
    "# 1. Load the processed test set\n",
    "test_path = \"../data/processed/test_processed.csv\"\n",
    "df_test   = pd.read_csv(test_path)\n",
    "\n",
    "# 2. Prepare X_test and y_test\n",
    "X_test = df_test[feature_cols].values\n",
    "y_test = df_test[\"good\"].values\n",
    "\n",
    "# 3. Predict on test set\n",
    "y_test_pred = model.predict(X_test)\n",
    "\n",
    "# 4. Compute accuracy\n",
    "accuracy_test = np.mean(y_test_pred == y_test)\n",
    "\n",
    "# 5. Compute precision, recall, and F1-score from scratch\n",
    "tp = np.sum((y_test_pred == 1) & (y_test == 1))\n",
    "tn = np.sum((y_test_pred == 0) & (y_test == 0))\n",
    "fp = np.sum((y_test_pred == 1) & (y_test == 0))\n",
    "fn = np.sum((y_test_pred == 0) & (y_test == 1))\n",
    "\n",
    "precision = tp / (tp + fp) if (tp + fp) > 0 else 0\n",
    "recall    = tp / (tp + fn) if (tp + fn) > 0 else 0\n",
    "f1_score  = (2 * precision * recall) / (precision + recall) if (precision + recall) > 0 else 0\n",
    "\n",
    "# 6. Display results\n",
    "print(f\"Test Accuracy : {accuracy_test:.4f}\")\n",
    "print(f\"Precision     : {precision:.4f}\")\n",
    "print(f\"Recall        : {recall:.4f}\")\n",
    "print(f\"F1-Score      : {f1_score:.4f}\")\n",
    "\n",
    "# 7. Optional: confusion matrix\n",
    "from sklearn.metrics import confusion_matrix\n",
    "cm = confusion_matrix(y_test, y_test_pred)\n",
    "print(\"\\nConfusion Matrix:\\n\", cm)\n"
   ]
  },
  {
   "cell_type": "markdown",
   "id": "5f6c6cc7-d84e-41c2-8710-a089b3092447",
   "metadata": {},
   "source": [
    "## Building a k-Fold Splitter"
   ]
  },
  {
   "cell_type": "code",
   "execution_count": 112,
   "id": "b98de756-8f23-42a5-9d95-0e97440bcab9",
   "metadata": {},
   "outputs": [
    {
     "name": "stdout",
     "output_type": "stream",
     "text": [
      "Fold 1: train=[4, 9, 1, 6, 7, 3, 0, 5], val=[2, 8]\n",
      "Fold 2: train=[2, 8, 1, 6, 7, 3, 0, 5], val=[4, 9]\n",
      "Fold 3: train=[2, 8, 4, 9, 7, 3, 0, 5], val=[1, 6]\n",
      "Fold 4: train=[2, 8, 4, 9, 1, 6, 0, 5], val=[7, 3]\n",
      "Fold 5: train=[2, 8, 4, 9, 1, 6, 7, 3], val=[0, 5]\n"
     ]
    }
   ],
   "source": [
    "def k_fold_indices(m, k=5, seed=42):\n",
    "    \"\"\"\n",
    "    Return a list of (train_idx, val_idx) tuples for k-fold CV.\n",
    "    m = number of samples.\n",
    "    \"\"\"\n",
    "    np.random.seed(seed)\n",
    "    idx = np.arange(m)\n",
    "    np.random.shuffle(idx)\n",
    "    \n",
    "    fold_sizes = (m // k) * np.ones(k, dtype=int)\n",
    "    fold_sizes[: m % k] += 1  # distribute the remainder\n",
    "    current = 0\n",
    "    splits = []\n",
    "    for fold_size in fold_sizes:\n",
    "        start, stop = current, current + fold_size\n",
    "        val_idx = idx[start:stop]\n",
    "        train_idx = np.concatenate([idx[:start], idx[stop:]])\n",
    "        splits.append((train_idx, val_idx))\n",
    "        current = stop\n",
    "    return splits\n",
    "\n",
    "# Quick test\n",
    "splits = k_fold_indices(10, k=5, seed=0)\n",
    "for i, (tr, va) in enumerate(splits):\n",
    "    print(f\"Fold {i+1}: train={tr.tolist()}, val={va.tolist()}\")\n"
   ]
  },
  {
   "cell_type": "markdown",
   "id": "15296f3a-60b1-48c4-bb27-481bc47fad7c",
   "metadata": {},
   "source": [
    "## Defining Hyperparameter Grid"
   ]
  },
  {
   "cell_type": "code",
   "execution_count": 115,
   "id": "ec220769-632b-49ce-8f38-64103f881a0b",
   "metadata": {},
   "outputs": [
    {
     "name": "stdout",
     "output_type": "stream",
     "text": [
      "Hyperparameter grid: [0.001, 0.01, 0.05, 0.1, 0.2]\n",
      "Number of folds: 5\n"
     ]
    }
   ],
   "source": [
    "# We’ll tune only the learning rate for now:\n",
    "learning_rates = [0.001, 0.01, 0.05, 0.1, 0.2]\n",
    "n_iters = 500  # fix iterations\n",
    "\n",
    "results = []  # to store (lr, fold, val_accuracy)\n",
    "splits = k_fold_indices(X_train.shape[0], k=5, seed=42)\n",
    "\n",
    "print(\"Hyperparameter grid:\", learning_rates)\n",
    "print(\"Number of folds:\", len(splits))\n"
   ]
  },
  {
   "cell_type": "markdown",
   "id": "8d92143e-657f-4af4-98be-89fcca3fe75d",
   "metadata": {},
   "source": [
    "## Running the CV Loop"
   ]
  },
  {
   "cell_type": "code",
   "execution_count": 118,
   "id": "16dae0aa-1ccc-40e8-91d5-c48c2a9e88c0",
   "metadata": {},
   "outputs": [
    {
     "name": "stdout",
     "output_type": "stream",
     "text": [
      "Iteration 100/500, loss=0.6825\n",
      "Iteration 200/500, loss=0.6727\n",
      "Iteration 300/500, loss=0.6638\n",
      "Iteration 400/500, loss=0.6558\n",
      "Iteration 500/500, loss=0.6484\n",
      "lr=0.001, fold=1, val_acc=0.6971\n",
      "Iteration 100/500, loss=0.6820\n",
      "Iteration 200/500, loss=0.6718\n",
      "Iteration 300/500, loss=0.6626\n",
      "Iteration 400/500, loss=0.6542\n",
      "Iteration 500/500, loss=0.6466\n",
      "lr=0.001, fold=2, val_acc=0.6779\n",
      "Iteration 100/500, loss=0.6823\n",
      "Iteration 200/500, loss=0.6724\n",
      "Iteration 300/500, loss=0.6634\n",
      "Iteration 400/500, loss=0.6552\n",
      "Iteration 500/500, loss=0.6477\n",
      "lr=0.001, fold=3, val_acc=0.6885\n",
      "Iteration 100/500, loss=0.6827\n",
      "Iteration 200/500, loss=0.6732\n",
      "Iteration 300/500, loss=0.6645\n",
      "Iteration 400/500, loss=0.6566\n",
      "Iteration 500/500, loss=0.6493\n",
      "lr=0.001, fold=4, val_acc=0.6971\n",
      "Iteration 100/500, loss=0.6822\n",
      "Iteration 200/500, loss=0.6721\n",
      "Iteration 300/500, loss=0.6630\n",
      "Iteration 400/500, loss=0.6547\n",
      "Iteration 500/500, loss=0.6472\n",
      "lr=0.001, fold=5, val_acc=0.6978\n",
      "Iteration 100/500, loss=0.6200\n",
      "Iteration 200/500, loss=0.5864\n",
      "Iteration 300/500, loss=0.5677\n",
      "Iteration 400/500, loss=0.5558\n",
      "Iteration 500/500, loss=0.5475\n",
      "lr=0.010, fold=1, val_acc=0.7250\n",
      "Iteration 100/500, loss=0.6174\n",
      "Iteration 200/500, loss=0.5831\n",
      "Iteration 300/500, loss=0.5641\n",
      "Iteration 400/500, loss=0.5519\n",
      "Iteration 500/500, loss=0.5434\n",
      "lr=0.010, fold=2, val_acc=0.7135\n",
      "Iteration 100/500, loss=0.6190\n",
      "Iteration 200/500, loss=0.5851\n",
      "Iteration 300/500, loss=0.5663\n",
      "Iteration 400/500, loss=0.5542\n",
      "Iteration 500/500, loss=0.5457\n",
      "lr=0.010, fold=3, val_acc=0.7173\n",
      "Iteration 100/500, loss=0.6214\n",
      "Iteration 200/500, loss=0.5880\n",
      "Iteration 300/500, loss=0.5694\n",
      "Iteration 400/500, loss=0.5575\n",
      "Iteration 500/500, loss=0.5492\n",
      "lr=0.010, fold=4, val_acc=0.7375\n",
      "Iteration 100/500, loss=0.6182\n",
      "Iteration 200/500, loss=0.5840\n",
      "Iteration 300/500, loss=0.5651\n",
      "Iteration 400/500, loss=0.5529\n",
      "Iteration 500/500, loss=0.5445\n",
      "lr=0.010, fold=5, val_acc=0.7190\n",
      "Iteration 100/500, loss=0.5477\n",
      "Iteration 200/500, loss=0.5271\n",
      "Iteration 300/500, loss=0.5193\n",
      "Iteration 400/500, loss=0.5157\n",
      "Iteration 500/500, loss=0.5138\n",
      "lr=0.050, fold=1, val_acc=0.7548\n",
      "Iteration 100/500, loss=0.5436\n",
      "Iteration 200/500, loss=0.5226\n",
      "Iteration 300/500, loss=0.5146\n",
      "Iteration 400/500, loss=0.5108\n",
      "Iteration 500/500, loss=0.5089\n",
      "lr=0.050, fold=2, val_acc=0.7394\n",
      "Iteration 100/500, loss=0.5459\n",
      "Iteration 200/500, loss=0.5247\n",
      "Iteration 300/500, loss=0.5164\n",
      "Iteration 400/500, loss=0.5125\n",
      "Iteration 500/500, loss=0.5104\n",
      "lr=0.050, fold=3, val_acc=0.7327\n",
      "Iteration 100/500, loss=0.5493\n",
      "Iteration 200/500, loss=0.5286\n",
      "Iteration 300/500, loss=0.5205\n",
      "Iteration 400/500, loss=0.5167\n",
      "Iteration 500/500, loss=0.5147\n",
      "lr=0.050, fold=4, val_acc=0.7423\n",
      "Iteration 100/500, loss=0.5446\n",
      "Iteration 200/500, loss=0.5236\n",
      "Iteration 300/500, loss=0.5154\n",
      "Iteration 400/500, loss=0.5115\n",
      "Iteration 500/500, loss=0.5095\n",
      "lr=0.050, fold=5, val_acc=0.7344\n",
      "Iteration 100/500, loss=0.5272\n",
      "Iteration 200/500, loss=0.5157\n",
      "Iteration 300/500, loss=0.5128\n",
      "Iteration 400/500, loss=0.5120\n",
      "Iteration 500/500, loss=0.5116\n",
      "lr=0.100, fold=1, val_acc=0.7558\n",
      "Iteration 100/500, loss=0.5226\n",
      "Iteration 200/500, loss=0.5108\n",
      "Iteration 300/500, loss=0.5079\n",
      "Iteration 400/500, loss=0.5070\n",
      "Iteration 500/500, loss=0.5066\n",
      "lr=0.100, fold=2, val_acc=0.7442\n",
      "Iteration 100/500, loss=0.5248\n",
      "Iteration 200/500, loss=0.5125\n",
      "Iteration 300/500, loss=0.5093\n",
      "Iteration 400/500, loss=0.5082\n",
      "Iteration 500/500, loss=0.5079\n",
      "lr=0.100, fold=3, val_acc=0.7288\n",
      "Iteration 100/500, loss=0.5286\n",
      "Iteration 200/500, loss=0.5167\n",
      "Iteration 300/500, loss=0.5136\n",
      "Iteration 400/500, loss=0.5126\n",
      "Iteration 500/500, loss=0.5122\n",
      "lr=0.100, fold=4, val_acc=0.7462\n",
      "Iteration 100/500, loss=0.5236\n",
      "Iteration 200/500, loss=0.5115\n",
      "Iteration 300/500, loss=0.5084\n",
      "Iteration 400/500, loss=0.5074\n",
      "Iteration 500/500, loss=0.5070\n",
      "lr=0.100, fold=5, val_acc=0.7334\n",
      "Iteration 100/500, loss=0.5157\n",
      "Iteration 200/500, loss=0.5120\n",
      "Iteration 300/500, loss=0.5115\n",
      "Iteration 400/500, loss=0.5113\n",
      "Iteration 500/500, loss=0.5113\n",
      "lr=0.200, fold=1, val_acc=0.7577\n",
      "Iteration 100/500, loss=0.5109\n",
      "Iteration 200/500, loss=0.5070\n",
      "Iteration 300/500, loss=0.5065\n",
      "Iteration 400/500, loss=0.5063\n",
      "Iteration 500/500, loss=0.5063\n",
      "lr=0.200, fold=2, val_acc=0.7462\n",
      "Iteration 100/500, loss=0.5125\n",
      "Iteration 200/500, loss=0.5082\n",
      "Iteration 300/500, loss=0.5077\n",
      "Iteration 400/500, loss=0.5075\n",
      "Iteration 500/500, loss=0.5075\n",
      "lr=0.200, fold=3, val_acc=0.7327\n",
      "Iteration 100/500, loss=0.5167\n",
      "Iteration 200/500, loss=0.5126\n",
      "Iteration 300/500, loss=0.5120\n",
      "Iteration 400/500, loss=0.5118\n",
      "Iteration 500/500, loss=0.5116\n",
      "lr=0.200, fold=4, val_acc=0.7519\n",
      "Iteration 100/500, loss=0.5115\n",
      "Iteration 200/500, loss=0.5074\n",
      "Iteration 300/500, loss=0.5068\n",
      "Iteration 400/500, loss=0.5066\n",
      "Iteration 500/500, loss=0.5065\n",
      "lr=0.200, fold=5, val_acc=0.7344\n"
     ]
    }
   ],
   "source": [
    "for lr in learning_rates:\n",
    "    for fold, (train_idx, val_idx) in enumerate(splits, start=1):\n",
    "        # Prepare fold data\n",
    "        X_tr, y_tr = X_train[train_idx], y_train[train_idx]\n",
    "        X_va, y_va = X_train[val_idx], y_train[val_idx]\n",
    "        \n",
    "        # Train a fresh model on this fold\n",
    "        clf = LogisticRegressionScratch(lr=lr, n_iters=n_iters)\n",
    "        clf.fit(X_tr, y_tr)\n",
    "        \n",
    "        # Validate\n",
    "        y_va_pred = clf.predict(X_va)\n",
    "        acc = np.mean(y_va_pred == y_va)\n",
    "        results.append((lr, fold, acc))\n",
    "        print(f\"lr={lr:.3f}, fold={fold}, val_acc={acc:.4f}\")\n"
   ]
  },
  {
   "cell_type": "markdown",
   "id": "64f6364a-e5d5-4518-a849-37e31f73056a",
   "metadata": {},
   "source": [
    "## Aggregating & Visualizing Cross-Validation Results"
   ]
  },
  {
   "cell_type": "code",
   "execution_count": 121,
   "id": "de6d3ba1-7213-46e2-9eb3-9bb08e6b5c30",
   "metadata": {},
   "outputs": [
    {
     "name": "stdout",
     "output_type": "stream",
     "text": [
      "      lr      mean       std\n",
      "0  0.001  0.691673  0.008617\n",
      "1  0.010  0.722446  0.009386\n",
      "2  0.050  0.740718  0.008769\n",
      "3  0.100  0.741679  0.010704\n",
      "4  0.200  0.744564  0.010887\n"
     ]
    },
    {
     "data": {
      "image/png": "[encoded data removed]",
      "text/plain": [
       "<Figure size 640x480 with 1 Axes>"
      ]
     },
     "metadata": {},
     "output_type": "display_data"
    }
   ],
   "source": [
    "# Build a DataFrame from results\n",
    "cv_df = pd.DataFrame(results, columns=[\"lr\", \"fold\", \"val_acc\"])\n",
    "\n",
    "# Compute mean & std acc per learning rate\n",
    "summary = cv_df.groupby(\"lr\")[\"val_acc\"].agg([\"mean\", \"std\"]).reset_index()\n",
    "print(summary)\n",
    "\n",
    "# Plot\n",
    "plt.errorbar(summary[\"lr\"], summary[\"mean\"], yerr=summary[\"std\"], fmt='-o')\n",
    "plt.xscale('log')\n",
    "plt.title(\"5-Fold CV Accuracy vs Learning Rate\")\n",
    "plt.xlabel(\"Learning Rate (log scale)\")\n",
    "plt.ylabel(\"Mean Validation Accuracy\")\n",
    "plt.grid(True, which=\"both\", ls=\"--\", lw=0.5)\n",
    "plt.show()\n"
   ]
  },
  {
   "cell_type": "markdown",
   "id": "563770dd-3ba2-44bc-8691-aa782fee7ee2",
   "metadata": {},
   "source": [
    "## Selecting Best Hyperparameter & Retraining"
   ]
  },
  {
   "cell_type": "code",
   "execution_count": 124,
   "id": "0d007767-0e3d-4447-8b0e-10f00e769969",
   "metadata": {},
   "outputs": [
    {
     "name": "stdout",
     "output_type": "stream",
     "text": [
      "Best learning rate = 0.2\n",
      "Iteration 100/500, loss=0.5136\n",
      "Iteration 200/500, loss=0.5096\n",
      "Iteration 300/500, loss=0.5091\n",
      "Iteration 400/500, loss=0.5089\n",
      "Iteration 500/500, loss=0.5088\n"
     ]
    }
   ],
   "source": [
    "# Pick the lr with highest mean val_acc\n",
    "best_lr = summary.loc[summary[\"mean\"].idxmax(), \"lr\"]\n",
    "print(f\"Best learning rate = {best_lr}\")\n",
    "\n",
    "# Retrain on the full training set\n",
    "best_model = LogisticRegressionScratch(lr=best_lr, n_iters=n_iters)\n",
    "best_model.fit(X_train, y_train)\n"
   ]
  },
  {
   "cell_type": "markdown",
   "id": "49a5f729-8e82-41a2-8dcc-09c4348caa7f",
   "metadata": {},
   "source": [
    "## Evaluating Best Model on Test Set"
   ]
  },
  {
   "cell_type": "code",
   "execution_count": 127,
   "id": "ab241131-e8de-442b-9b0e-7068976bf6a4",
   "metadata": {},
   "outputs": [
    {
     "name": "stdout",
     "output_type": "stream",
     "text": [
      "Test Accuracy (best lr): 0.7187981510015409\n",
      "Test Precision: 0.7642\n",
      "Test Recall   : 0.8041\n",
      "Test F1-Score : 0.7836\n",
      "\n",
      "Confusion Matrix (tn, fp; fn, tp):\n",
      "[[272, 204], [161, 661]]\n"
     ]
    }
   ],
   "source": [
    "y_test_pred = best_model.predict(X_test)\n",
    "acc_test    = np.mean(y_test_pred == y_test)\n",
    "print(\"Test Accuracy (best lr):\", acc_test)\n",
    "# Compute confusion‐matrix counts\n",
    "tp = np.sum((y_test_pred == 1) & (y_test == 1))\n",
    "tn = np.sum((y_test_pred == 0) & (y_test == 0))\n",
    "fp = np.sum((y_test_pred == 1) & (y_test == 0))\n",
    "fn = np.sum((y_test_pred == 0) & (y_test == 1))\n",
    "\n",
    "# Compute metrics\n",
    "precision = tp / (tp + fp) if (tp + fp) > 0 else 0\n",
    "recall    = tp / (tp + fn) if (tp + fn) > 0 else 0\n",
    "f1_score  = (2 * precision * recall) / (precision + recall) if (precision + recall) > 0 else 0\n",
    "\n",
    "print(f\"Test Precision: {precision:.4f}\")\n",
    "print(f\"Test Recall   : {recall:.4f}\")\n",
    "print(f\"Test F1-Score : {f1_score:.4f}\")\n",
    "\n",
    "# (Optional) Display confusion matrix\n",
    "print(\"\\nConfusion Matrix (tn, fp; fn, tp):\")\n",
    "print([[tn, fp],\n",
    "       [fn, tp]])\n"
   ]
  },
  {
   "cell_type": "code",
   "execution_count": null,
   "id": "6e942abe-8348-4754-8bac-ce41ff7debbb",
   "metadata": {},
   "outputs": [],
   "source": []
  },
  {
   "cell_type": "code",
   "execution_count": null,
   "id": "ad9fbe8d-4045-410a-b761-c171771eb883",
   "metadata": {},
   "outputs": [],
   "source": []
  }
 ],
 "metadata": {
  "kernelspec": {
   "display_name": "Python 3 (ipykernel)",
   "language": "python",
   "name": "python3"
  },
  "language_info": {
   "codemirror_mode": {
    "name": "ipython",
    "version": 3
   },
   "file_extension": ".py",
   "mimetype": "text/x-python",
   "name": "python",
   "nbconvert_exporter": "python",
   "pygments_lexer": "ipython3",
   "version": "3.12.7"
  }
 },
 "nbformat": 4,
 "nbformat_minor": 5
}
