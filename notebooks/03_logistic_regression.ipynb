{
 "cells": [
  {
   "cell_type": "markdown",
   "id": "85b6bee5-ab0b-4d0c-866a-718192ea78fc",
   "metadata": {},
   "source": [
    "## Imports & Data Loading"
   ]
  },
  {
   "cell_type": "code",
   "execution_count": 2,
   "id": "09638b51-f753-4803-9655-f6d38d549043",
   "metadata": {},
   "outputs": [
    {
     "name": "stdout",
     "output_type": "stream",
     "text": [
      "Train DataFrame shape: (5199, 12)\n"
     ]
    },
    {
     "data": {
      "text/html": [
       "<div>\n",
       "<style scoped>\n",
       "    .dataframe tbody tr th:only-of-type {\n",
       "        vertical-align: middle;\n",
       "    }\n",
       "\n",
       "    .dataframe tbody tr th {\n",
       "        vertical-align: top;\n",
       "    }\n",
       "\n",
       "    .dataframe thead th {\n",
       "        text-align: right;\n",
       "    }\n",
       "</style>\n",
       "<table border=\"1\" class=\"dataframe\">\n",
       "  <thead>\n",
       "    <tr style=\"text-align: right;\">\n",
       "      <th></th>\n",
       "      <th>fixed acidity</th>\n",
       "      <th>volatile acidity</th>\n",
       "      <th>citric acid</th>\n",
       "      <th>residual sugar</th>\n",
       "      <th>chlorides</th>\n",
       "      <th>free sulfur dioxide</th>\n",
       "      <th>total sulfur dioxide</th>\n",
       "      <th>density</th>\n",
       "      <th>pH</th>\n",
       "      <th>sulphates</th>\n",
       "      <th>alcohol</th>\n",
       "      <th>good</th>\n",
       "    </tr>\n",
       "  </thead>\n",
       "  <tbody>\n",
       "    <tr>\n",
       "      <th>0</th>\n",
       "      <td>-0.775904</td>\n",
       "      <td>-0.226441</td>\n",
       "      <td>1.178781</td>\n",
       "      <td>1.199440</td>\n",
       "      <td>0.068358</td>\n",
       "      <td>2.144825</td>\n",
       "      <td>1.765922</td>\n",
       "      <td>0.624517</td>\n",
       "      <td>-0.169426</td>\n",
       "      <td>0.467230</td>\n",
       "      <td>-0.914025</td>\n",
       "      <td>1</td>\n",
       "    </tr>\n",
       "    <tr>\n",
       "      <th>1</th>\n",
       "      <td>-0.389287</td>\n",
       "      <td>-0.659067</td>\n",
       "      <td>-0.417431</td>\n",
       "      <td>-0.848574</td>\n",
       "      <td>0.127257</td>\n",
       "      <td>0.137470</td>\n",
       "      <td>0.679752</td>\n",
       "      <td>-0.425157</td>\n",
       "      <td>0.143998</td>\n",
       "      <td>0.195918</td>\n",
       "      <td>-0.830075</td>\n",
       "      <td>1</td>\n",
       "    </tr>\n",
       "    <tr>\n",
       "      <th>2</th>\n",
       "      <td>3.554210</td>\n",
       "      <td>-0.041030</td>\n",
       "      <td>1.178781</td>\n",
       "      <td>-0.430612</td>\n",
       "      <td>1.099083</td>\n",
       "      <td>1.341883</td>\n",
       "      <td>-0.637897</td>\n",
       "      <td>1.833636</td>\n",
       "      <td>0.520106</td>\n",
       "      <td>1.552481</td>\n",
       "      <td>0.177323</td>\n",
       "      <td>1</td>\n",
       "    </tr>\n",
       "    <tr>\n",
       "      <th>3</th>\n",
       "      <td>2.858299</td>\n",
       "      <td>-0.102834</td>\n",
       "      <td>1.386983</td>\n",
       "      <td>-0.764981</td>\n",
       "      <td>2.247604</td>\n",
       "      <td>-0.780179</td>\n",
       "      <td>-1.278915</td>\n",
       "      <td>0.883614</td>\n",
       "      <td>0.394736</td>\n",
       "      <td>1.620309</td>\n",
       "      <td>0.848921</td>\n",
       "      <td>1</td>\n",
       "    </tr>\n",
       "    <tr>\n",
       "      <th>4</th>\n",
       "      <td>-0.157317</td>\n",
       "      <td>-0.720870</td>\n",
       "      <td>-0.139829</td>\n",
       "      <td>-0.848574</td>\n",
       "      <td>-0.461729</td>\n",
       "      <td>-0.952238</td>\n",
       "      <td>-0.940600</td>\n",
       "      <td>-1.604379</td>\n",
       "      <td>-0.106741</td>\n",
       "      <td>-1.364131</td>\n",
       "      <td>1.268670</td>\n",
       "      <td>1</td>\n",
       "    </tr>\n",
       "  </tbody>\n",
       "</table>\n",
       "</div>"
      ],
      "text/plain": [
       "   fixed acidity  volatile acidity  citric acid  residual sugar  chlorides  \\\n",
       "0      -0.775904         -0.226441     1.178781        1.199440   0.068358   \n",
       "1      -0.389287         -0.659067    -0.417431       -0.848574   0.127257   \n",
       "2       3.554210         -0.041030     1.178781       -0.430612   1.099083   \n",
       "3       2.858299         -0.102834     1.386983       -0.764981   2.247604   \n",
       "4      -0.157317         -0.720870    -0.139829       -0.848574  -0.461729   \n",
       "\n",
       "   free sulfur dioxide  total sulfur dioxide   density        pH  sulphates  \\\n",
       "0             2.144825              1.765922  0.624517 -0.169426   0.467230   \n",
       "1             0.137470              0.679752 -0.425157  0.143998   0.195918   \n",
       "2             1.341883             -0.637897  1.833636  0.520106   1.552481   \n",
       "3            -0.780179             -1.278915  0.883614  0.394736   1.620309   \n",
       "4            -0.952238             -0.940600 -1.604379 -0.106741  -1.364131   \n",
       "\n",
       "    alcohol  good  \n",
       "0 -0.914025     1  \n",
       "1 -0.830075     1  \n",
       "2  0.177323     1  \n",
       "3  0.848921     1  \n",
       "4  1.268670     1  "
      ]
     },
     "execution_count": 2,
     "metadata": {},
     "output_type": "execute_result"
    }
   ],
   "source": [
    "import numpy as np\n",
    "import pandas as pd\n",
    "import matplotlib.pyplot as plt\n",
    "\n",
    "# 1. Build path to the processed training data\n",
    "train_path = \"../data/processed/train_processed.csv\"\n",
    "\n",
    "# 2. Load into a DataFrame\n",
    "df_train = pd.read_csv(train_path)\n",
    "\n",
    "# 3. Quick inspection\n",
    "print(\"Train DataFrame shape:\", df_train.shape)\n",
    "df_train.head()\n"
   ]
  },
  {
   "cell_type": "markdown",
   "id": "a0007d13-d734-4c90-b3af-b04b8d0d2c5c",
   "metadata": {},
   "source": [
    "## Preparing feature & label arrays"
   ]
  },
  {
   "cell_type": "code",
   "execution_count": 5,
   "id": "1c7bed55-c773-47a7-9fe4-523b4aaf8757",
   "metadata": {},
   "outputs": [
    {
     "name": "stdout",
     "output_type": "stream",
     "text": [
      "Feature columns: ['fixed acidity', 'volatile acidity', 'citric acid', 'residual sugar', 'chlorides', 'free sulfur dioxide', 'total sulfur dioxide', 'density', 'pH', 'sulphates', 'alcohol']\n",
      "X_train shape: (5199, 11)\n",
      "y_train shape: (5199,)\n"
     ]
    }
   ],
   "source": [
    "# 4. Identify feature columns (all except 'good')\n",
    "feature_cols = [col for col in df_train.columns if col != \"good\"]\n",
    "print(\"Feature columns:\", feature_cols)\n",
    "\n",
    "# 5. Convert to NumPy arrays\n",
    "X_train = df_train[feature_cols].values\n",
    "y_train = df_train[\"good\"].values\n",
    "\n",
    "# 6. Check shapes\n",
    "print(\"X_train shape:\", X_train.shape)\n",
    "print(\"y_train shape:\", y_train.shape)\n"
   ]
  },
  {
   "cell_type": "code",
   "execution_count": null,
   "id": "d17a37a9-be54-4761-97bb-5443e390fa38",
   "metadata": {},
   "outputs": [],
   "source": []
  }
 ],
 "metadata": {
  "kernelspec": {
   "display_name": "Python 3 (ipykernel)",
   "language": "python",
   "name": "python3"
  },
  "language_info": {
   "codemirror_mode": {
    "name": "ipython",
    "version": 3
   },
   "file_extension": ".py",
   "mimetype": "text/x-python",
   "name": "python",
   "nbconvert_exporter": "python",
   "pygments_lexer": "ipython3",
   "version": "3.12.7"
  }
 },
 "nbformat": 4,
 "nbformat_minor": 5
}
