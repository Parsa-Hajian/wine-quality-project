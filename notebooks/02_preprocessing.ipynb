{
 "cells": [
  {
   "cell_type": "markdown",
   "id": "d7933d30-bf4c-4e5b-bc6a-7bf5389c6424",
   "metadata": {},
   "source": [
    "## Imports and Helper Functions"
   ]
  },
  {
   "cell_type": "code",
   "execution_count": 2,
   "id": "a6b6f4d7-4dd9-400c-a670-06e748344c97",
   "metadata": {},
   "outputs": [],
   "source": [
    "import os\n",
    "import pandas as pd\n",
    "import numpy as np\n",
    "\n",
    "def load_combined_df():\n",
    "    \"\"\"Load red+white CSVs, add 'color', return combined DataFrame.\"\"\"\n",
    "    base_dir = os.path.join(\"..\", \"data\")\n",
    "    red_path = os.path.join(base_dir, \"winequality-red.csv\")\n",
    "    white_path = os.path.join(base_dir, \"winequality-white.csv\")\n",
    "\n",
    "    red_df = pd.read_csv(red_path, sep=\";\")\n",
    "    white_df = pd.read_csv(white_path, sep=\";\")\n",
    "    red_df[\"color\"], white_df[\"color\"] = \"red\", \"white\"\n",
    "\n",
    "    return pd.concat([red_df, white_df], ignore_index=True)\n",
    "\n",
    "def create_label(df):\n",
    "    \"\"\"Add binary 'good' column: 1 if quality ≥ 6, else 0.\"\"\"\n",
    "    df = df.copy()\n",
    "    df[\"good\"] = (df[\"quality\"] >= 6).astype(int)\n",
    "    return df\n",
    "\n",
    "def stratified_split(df, label_col=\"good\", test_frac=0.2, seed=42):\n",
    "    \"\"\"Stratified shuffle-split into train/test DataFrames.\"\"\"\n",
    "    np.random.seed(seed)\n",
    "    df_shuffled = df.sample(frac=1, random_state=seed).reset_index(drop=True)\n",
    "\n",
    "    train_idxs, test_idxs = [], []\n",
    "    for lbl in df_shuffled[label_col].unique():\n",
    "        subset = df_shuffled[df_shuffled[label_col] == lbl]\n",
    "        n_test = int(np.floor(test_frac * len(subset)))\n",
    "        test_idxs.extend(subset.index[:n_test])\n",
    "        train_idxs.extend(subset.index[n_test:])\n",
    "\n",
    "    train_df = df_shuffled.loc[train_idxs].reset_index(drop=True)\n",
    "    test_df  = df_shuffled.loc[test_idxs].reset_index(drop=True)\n",
    "    return train_df, test_df\n",
    "\n",
    "def standardize_features(df_train, df_test, feature_cols):\n",
    "    \"\"\"\n",
    "    Compute means/stds on df_train, then return standardized\n",
    "    X_train, X_test, plus the means & stds Series.\n",
    "    \"\"\"\n",
    "    means = df_train[feature_cols].mean()\n",
    "    stds  = df_train[feature_cols].std().replace(0, 1)\n",
    "\n",
    "    X_train = (df_train[feature_cols] - means) / stds\n",
    "    X_test  = (df_test[feature_cols]  - means) / stds\n",
    "    return X_train, X_test, means, stds\n"
   ]
  },
  {
   "cell_type": "markdown",
   "id": "7122035d-49d7-4328-9123-4276381916d2",
   "metadata": {},
   "source": [
    "## Load & Label"
   ]
  },
  {
   "cell_type": "code",
   "execution_count": 5,
   "id": "fae69288-69d4-4fe8-9e96-141b390e96fd",
   "metadata": {},
   "outputs": [
    {
     "name": "stdout",
     "output_type": "stream",
     "text": [
      "Total samples: 6497\n",
      "Good vs. Bad counts:\n",
      " good\n",
      "1    4113\n",
      "0    2384\n",
      "Name: count, dtype: int64\n"
     ]
    }
   ],
   "source": [
    "# Load and label your data\n",
    "df = load_combined_df()\n",
    "df = create_label(df)\n",
    "\n",
    "# Check shapes and class balance\n",
    "print(\"Total samples:\", len(df))\n",
    "print(\"Good vs. Bad counts:\\n\", df[\"good\"].value_counts(normalize=False))\n"
   ]
  },
  {
   "cell_type": "markdown",
   "id": "85f0b9ba-d323-40e8-bfe6-23cdf92d4eb0",
   "metadata": {},
   "source": [
    "## Train/Test Split"
   ]
  },
  {
   "cell_type": "code",
   "execution_count": 8,
   "id": "4b32d961-90f5-4a74-be99-9c25a7b4f74d",
   "metadata": {},
   "outputs": [
    {
     "name": "stdout",
     "output_type": "stream",
     "text": [
      "Train: 5199 samples, Test: 1298 samples\n"
     ]
    }
   ],
   "source": [
    "# Select feature columns (drop quality, color, good)\n",
    "exclude = [\"quality\", \"color\", \"good\"]\n",
    "features = [c for c in df.columns if c not in exclude]\n",
    "\n",
    "# Do the stratified split\n",
    "train_df, test_df = stratified_split(df, label_col=\"good\", test_frac=0.2, seed=42)\n",
    "print(f\"Train: {len(train_df)} samples, Test: {len(test_df)} samples\")\n",
    "\n",
    "# Separate X & y\n",
    "X_train_raw = train_df[features]\n",
    "y_train     = train_df[\"good\"]\n",
    "X_test_raw  = test_df[features]\n",
    "y_test      = test_df[\"good\"]\n"
   ]
  },
  {
   "cell_type": "markdown",
   "id": "498fc20a-3d10-4ac9-b275-1f37ad918f8a",
   "metadata": {},
   "source": [
    "## Standardize & Save"
   ]
  },
  {
   "cell_type": "code",
   "execution_count": null,
   "id": "9b6a28dd-72d2-4c44-8665-5bf08b7dba41",
   "metadata": {},
   "outputs": [],
   "source": [
    "# Standardize using training stats\n",
    "X_train, X_test, means, stds = standardize_features(train_df, test_df, features)\n",
    "\n",
    "# Convert back to DataFrame\n",
    "X_train = pd.DataFrame(X_train, columns=features)\n",
    "X_test  = pd.DataFrame(X_test,  columns=features)\n",
    "\n",
    "# Prepare output directory\n",
    "processed_dir = os.path.join(\"..\", \"data\", \"processed\")\n",
    "os.makedirs(processed_dir, exist_ok=True)\n",
    "\n",
    "# Save processed CSVs\n",
    "pd.concat([X_train, y_train.rename(\"good\")], axis=1).to_csv(\n",
    "    os.path.join(processed_dir, \"train_processed.csv\"), index=False)\n",
    "pd.concat([X_test, y_test.rename(\"good\")], axis=1).to_csv(\n",
    "    os.path.join(processed_dir, \"test_processed.csv\"), index=False)\n",
    "\n",
    "# Save means & stds for later reuse\n",
    "means.to_csv(os.path.join(processed_dir, \"feature_means.csv\"), header=True)\n",
    "stds.to_csv(os.path.join(processed_dir, \"feature_stds.csv\"),  header=True)\n",
    "\n",
    "print(\"Saved processed data to:\", processed_dir)\n"
   ]
  }
 ],
 "metadata": {
  "kernelspec": {
   "display_name": "Python 3 (ipykernel)",
   "language": "python",
   "name": "python3"
  },
  "language_info": {
   "codemirror_mode": {
    "name": "ipython",
    "version": 3
   },
   "file_extension": ".py",
   "mimetype": "text/x-python",
   "name": "python",
   "nbconvert_exporter": "python",
   "pygments_lexer": "ipython3",
   "version": "3.12.7"
  }
 },
 "nbformat": 4,
 "nbformat_minor": 5
}
